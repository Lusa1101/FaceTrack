{
 "cells": [
  {
   "cell_type": "code",
   "execution_count": null,
   "id": "61819f1a",
   "metadata": {},
   "outputs": [],
   "source": [
    "import cv2\n",
    "import mediapipe as mp\n",
    "import numpy as np\n",
    "import time\n",
    "from sklearn.metrics.pairwise import cosine_similarity\n",
    "import os\n",
    "import shutil"
   ]
  },
  {
   "cell_type": "code",
   "execution_count": null,
   "id": "a9bbc583",
   "metadata": {},
   "outputs": [],
   "source": [
    "mp_face_detection = mp.solutions.face_detection\n",
    "mp_drawing = mp.solutions.drawing_utils\n",
    "face_detection = mp_face_detection.FaceDetection(\n",
    "    model_selection=0,\n",
    "    min_detection_confidence=0.7\n",
    ")\n",
    "\n",
    "# Known faces database\n",
    "known_face_encodings = []\n",
    "known_face_names = []\n",
    "\n",
    "# Performance tracking\n",
    "fps = 0\n",
    "prev_time = time.time()\n",
    "frame_count = 0"
   ]
  }
 ],
 "metadata": {
  "kernelspec": {
   "display_name": "myvenv (3.12.3)",
   "language": "python",
   "name": "python3"
  },
  "language_info": {
   "name": "python",
   "version": "3.12.3"
  }
 },
 "nbformat": 4,
 "nbformat_minor": 5
}
